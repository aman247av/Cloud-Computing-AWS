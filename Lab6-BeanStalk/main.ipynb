{
 "cells": [
  {
   "cell_type": "code",
   "execution_count": 1,
   "metadata": {},
   "outputs": [],
   "source": [
    "import boto3\n",
    "\n",
    "session=boto3.Session(\n",
    "    aws_access_key_id='',\n",
    "    aws_secret_access_key='',\n",
    "    region_name='ap-south-1'        \n",
    ")\n",
    "\n",
    "client=session.client('elasticbeanstalk')"
   ]
  },
  {
   "attachments": {},
   "cell_type": "markdown",
   "metadata": {},
   "source": [
    "## Elastic Beanstalk"
   ]
  },
  {
   "cell_type": "code",
   "execution_count": 2,
   "metadata": {},
   "outputs": [
    {
     "name": "stdout",
     "output_type": "stream",
     "text": [
      "{'ApplicationVersion': {'ApplicationVersionArn': 'arn:aws:elasticbeanstalk:ap-south-1:115926855272:applicationversion/my-flask-webapp/v1', 'ApplicationName': 'my-flask-webapp', 'Description': 'my-flask-webapp-v1', 'VersionLabel': 'v1', 'SourceBundle': {'S3Bucket': 'lab6-flask-app-beanstalk', 'S3Key': 'my-flask-app.zip'}, 'DateCreated': datetime.datetime(2023, 9, 10, 10, 55, 12, 566000, tzinfo=tzutc()), 'DateUpdated': datetime.datetime(2023, 9, 10, 10, 55, 12, 566000, tzinfo=tzutc()), 'Status': 'PROCESSING'}, 'ResponseMetadata': {'RequestId': 'cc289030-5bb6-4c3c-9064-27d8d8b5ad5e', 'HTTPStatusCode': 200, 'HTTPHeaders': {'content-type': 'text/xml', 'date': 'Sun, 10 Sep 2023 10:55:11 GMT', 'x-amzn-requestid': 'cc289030-5bb6-4c3c-9064-27d8d8b5ad5e', 'content-length': '937', 'connection': 'keep-alive'}, 'RetryAttempts': 0}}\n"
     ]
    }
   ],
   "source": [
    "response=client.create_application_version(\n",
    "    ApplicationName=\"my-flask-webapp\",\n",
    "    AutoCreateApplication=True,\n",
    "    Description=\"my-flask-webapp-v1\",\n",
    "    Process=True,\n",
    "    SourceBundle={\n",
    "        \"S3Bucket\": \"lab6-flask-app-beanstalk\",\n",
    "        \"S3Key\": \"my-flask-app.zip\",\n",
    "    },\n",
    "    VersionLabel=\"v1\",\n",
    ")\n",
    "\n",
    "print(response)"
   ]
  },
  {
   "cell_type": "code",
   "execution_count": 3,
   "metadata": {},
   "outputs": [
    {
     "name": "stdout",
     "output_type": "stream",
     "text": [
      "Done\n"
     ]
    }
   ],
   "source": [
    "import time\n",
    "\n",
    "while True:\n",
    "\n",
    "    response = client.describe_application_versions(\n",
    "        ApplicationName=\"my-flask-webapp\",\n",
    "        VersionLabels=[\n",
    "            \"v1\",\n",
    "        ],\n",
    "        MaxRecords=123,\n",
    "    )\n",
    "\n",
    "    if response[\"ApplicationVersions\"][0][\"Status\"] != \"PROCESSED\":\n",
    "        time.sleep(5)\n",
    "    else:\n",
    "        print('Done')\n",
    "        break\n",
    "\n"
   ]
  },
  {
   "cell_type": "code",
   "execution_count": 4,
   "metadata": {},
   "outputs": [
    {
     "name": "stdout",
     "output_type": "stream",
     "text": [
      "{'EnvironmentName': 'env-1', 'EnvironmentId': 'e-w5qba3uepu', 'ApplicationName': 'my-flask-webapp', 'VersionLabel': 'v1', 'SolutionStackName': '64bit Amazon Linux 2023 v4.0.3 running Python 3.11', 'PlatformArn': 'arn:aws:elasticbeanstalk:ap-south-1::platform/Python 3.11 running on 64bit Amazon Linux 2023/4.0.3', 'CNAME': 'aman24s-porfolio.ap-south-1.elasticbeanstalk.com', 'DateCreated': datetime.datetime(2023, 9, 10, 10, 55, 41, 936000, tzinfo=tzutc()), 'DateUpdated': datetime.datetime(2023, 9, 10, 10, 55, 41, 936000, tzinfo=tzutc()), 'Status': 'Launching', 'Health': 'Grey', 'Tier': {'Name': 'WebServer', 'Type': 'Standard', 'Version': '1.0'}, 'EnvironmentArn': 'arn:aws:elasticbeanstalk:ap-south-1:115926855272:environment/my-flask-webapp/env-1', 'ResponseMetadata': {'RequestId': 'bce55edd-6457-4048-85e9-32aa541b4acb', 'HTTPStatusCode': 200, 'HTTPHeaders': {'content-type': 'text/xml', 'date': 'Sun, 10 Sep 2023 10:55:41 GMT', 'x-amzn-requestid': 'bce55edd-6457-4048-85e9-32aa541b4acb', 'content-length': '1158', 'connection': 'keep-alive'}, 'RetryAttempts': 0}}\n"
     ]
    }
   ],
   "source": [
    "response = client.create_environment(\n",
    "    ApplicationName=\"my-flask-webapp\",\n",
    "    CNAMEPrefix=\"aman24sporfolio\",\n",
    "    EnvironmentName=\"env-1\",\n",
    "    SolutionStackName=\"64bit Amazon Linux 2023 v4.0.3 running Python 3.11\",\n",
    "    VersionLabel=\"v1\",\n",
    "    OptionSettings=[\n",
    "        {\n",
    "            \"Namespace\": \"aws:autoscaling:launchconfiguration\",\n",
    "            \"OptionName\": \"IamInstanceProfile\",\n",
    "            \"Value\": \"Iam-role-all\",\n",
    "        },\n",
    "        {\n",
    "            \"Namespace\": \"aws:autoscaling:launchconfiguration\",\n",
    "            \"OptionName\": \"InstanceType\",\n",
    "            \"Value\": \"t2.micro\",\n",
    "        },\n",
    "        {\n",
    "            \"Namespace\": \"aws:autoscaling:launchconfiguration\",\n",
    "            \"OptionName\": \"EC2KeyName\",\n",
    "            \"Value\": \"CS351_KEY\",\n",
    "        },\n",
    "        {\n",
    "            \"Namespace\": \"aws:autoscaling:launchconfiguration\",\n",
    "            \"OptionName\": \"ImageId\",\n",
    "            \"Value\": \"ami-0ded8326293d3201b\",\n",
    "        },\n",
    "        {\n",
    "            \"Namespace\": \"aws:autoscaling:launchconfiguration\",\n",
    "            \"OptionName\": \"SecurityGroups\",\n",
    "            \"Value\": \"launch-wizard-1\",\n",
    "        },\n",
    "        {\n",
    "            \"Namespace\": \"aws:autoscaling:trigger\",\n",
    "            \"OptionName\": \"BreachDuration\",\n",
    "            \"Value\": \"1\",\n",
    "        },\n",
    "        {\n",
    "            \"Namespace\": \"aws:autoscaling:trigger\",\n",
    "            \"OptionName\": \"Statistic\",\n",
    "            \"Value\": \"Average\",\n",
    "        },\n",
    "        {\n",
    "            \"Namespace\": \"aws:autoscaling:trigger\",\n",
    "            \"OptionName\": \"Unit\",\n",
    "            \"Value\": \"Percent\",\n",
    "        },\n",
    "        {\n",
    "            \"Namespace\": \"aws:autoscaling:trigger\",\n",
    "            \"OptionName\": \"EvaluationPeriods\",\n",
    "            \"Value\": \"1\",\n",
    "        },\n",
    "        {\n",
    "            \"Namespace\": \"aws:autoscaling:trigger\",\n",
    "            \"OptionName\": \"Period\",\n",
    "            \"Value\": \"1\",\n",
    "        },\n",
    "        {\n",
    "            \"Namespace\": \"aws:autoscaling:trigger\",\n",
    "            \"OptionName\": \"UpperThreshold\",\n",
    "            \"Value\": \"80\",\n",
    "        },\n",
    "        {\n",
    "            \"Namespace\": \"aws:autoscaling:trigger\",\n",
    "            \"OptionName\": \"UpperBreachScaleIncrement\",\n",
    "            \"Value\": \"1\",\n",
    "        },\n",
    "        {\n",
    "            \"Namespace\": \"aws:autoscaling:trigger\",\n",
    "            \"OptionName\": \"MeasureName\",\n",
    "            \"Value\": \"CPUUtilization\",\n",
    "        },\n",
    "        {\n",
    "            \"Namespace\": \"aws:autoscaling:trigger\",\n",
    "            \"OptionName\": \"LowerThreshold\",\n",
    "            \"Value\": \"20\",\n",
    "        },\n",
    "        {\n",
    "            \"Namespace\": \"aws:autoscaling:trigger\",\n",
    "            \"OptionName\": \"LowerBreachScaleIncrement\",\n",
    "            \"Value\": \"-1\",\n",
    "        },\n",
    "        {\n",
    "            \"Namespace\": \"aws:autoscaling:asg\",\n",
    "            \"OptionName\": \"Availability Zones\",\n",
    "            \"Value\": \"Any 2\",\n",
    "        },\n",
    "        {\n",
    "            \"Namespace\": \"aws:autoscaling:asg\",\n",
    "            \"OptionName\": \"MaxSize\",\n",
    "            \"Value\": \"3\",\n",
    "        },\n",
    "        {\n",
    "            \"Namespace\": \"aws:autoscaling:asg\",\n",
    "            \"OptionName\": \"MinSize\",\n",
    "            \"Value\": \"1\",\n",
    "        },\n",
    "    ],\n",
    ")\n",
    "print(response)"
   ]
  },
  {
   "cell_type": "code",
   "execution_count": 6,
   "metadata": {},
   "outputs": [
    {
     "name": "stdout",
     "output_type": "stream",
     "text": [
      "Environment Status: Ready\n"
     ]
    }
   ],
   "source": [
    "# Get information about the environment\n",
    "response = client.describe_environments(\n",
    "    ApplicationName='my-flask-webapp',\n",
    "    EnvironmentNames=['env-1']\n",
    ")\n",
    "\n",
    "# Check the status of the environment\n",
    "environments = response['Environments']\n",
    "\n",
    "if environments:\n",
    "    environment = environments[0]\n",
    "    status = environment['Status']\n",
    "    print(f\"Environment Status: {status}\")\n",
    "else:\n",
    "    print(\"Environment not found.\")\n"
   ]
  },
  {
   "attachments": {},
   "cell_type": "markdown",
   "metadata": {},
   "source": [
    "## CloudFront"
   ]
  },
  {
   "cell_type": "code",
   "execution_count": 17,
   "metadata": {},
   "outputs": [
    {
     "name": "stdout",
     "output_type": "stream",
     "text": [
      "{'ResponseMetadata': {'RequestId': 'a8f36b61-7f54-4c28-b609-a627baca3869', 'HTTPStatusCode': 201, 'HTTPHeaders': {'x-amzn-requestid': 'a8f36b61-7f54-4c28-b609-a627baca3869', 'etag': 'E1RVYBSEBGZUGX', 'location': 'https://cloudfront.amazonaws.com/2020-05-31/distribution/E13N82YBHTO5GJ', 'content-type': 'text/xml', 'content-length': '3303', 'date': 'Sun, 10 Sep 2023 12:07:25 GMT'}, 'RetryAttempts': 0}, 'Location': 'https://cloudfront.amazonaws.com/2020-05-31/distribution/E13N82YBHTO5GJ', 'ETag': 'E1RVYBSEBGZUGX', 'Distribution': {'Id': 'E13N82YBHTO5GJ', 'ARN': 'arn:aws:cloudfront::115926855272:distribution/E13N82YBHTO5GJ', 'Status': 'InProgress', 'LastModifiedTime': datetime.datetime(2023, 9, 10, 12, 7, 25, 811000, tzinfo=tzutc()), 'InProgressInvalidationBatches': 0, 'DomainName': 'd3bfk7vtmmbn2m.cloudfront.net', 'ActiveTrustedSigners': {'Enabled': False, 'Quantity': 0}, 'ActiveTrustedKeyGroups': {'Enabled': False, 'Quantity': 0}, 'DistributionConfig': {'CallerReference': 'CDNprofile', 'Aliases': {'Quantity': 0}, 'DefaultRootObject': 'profile.jpg', 'Origins': {'Quantity': 1, 'Items': [{'Id': 'webpageid', 'DomainName': 'lab6-flask-app-beanstalk.s3.ap-south-1.amazonaws.com', 'OriginPath': '', 'CustomHeaders': {'Quantity': 0}, 'S3OriginConfig': {'OriginAccessIdentity': ''}, 'ConnectionAttempts': 3, 'ConnectionTimeout': 10, 'OriginShield': {'Enabled': False}, 'OriginAccessControlId': ''}]}, 'OriginGroups': {'Quantity': 0}, 'DefaultCacheBehavior': {'TargetOriginId': 'webpageid', 'TrustedSigners': {'Enabled': False, 'Quantity': 0}, 'TrustedKeyGroups': {'Enabled': False, 'Quantity': 0}, 'ViewerProtocolPolicy': 'redirect-to-https', 'AllowedMethods': {'Quantity': 2, 'Items': ['HEAD', 'GET'], 'CachedMethods': {'Quantity': 2, 'Items': ['HEAD', 'GET']}}, 'SmoothStreaming': False, 'Compress': False, 'LambdaFunctionAssociations': {'Quantity': 0}, 'FunctionAssociations': {'Quantity': 0}, 'FieldLevelEncryptionId': '', 'ForwardedValues': {'QueryString': False, 'Cookies': {'Forward': 'all'}, 'Headers': {'Quantity': 0}, 'QueryStringCacheKeys': {'Quantity': 0}}, 'MinTTL': 1000, 'DefaultTTL': 86400, 'MaxTTL': 31536000}, 'CacheBehaviors': {'Quantity': 0}, 'CustomErrorResponses': {'Quantity': 0}, 'Comment': 'distribution to host portfolio', 'Logging': {'Enabled': False, 'IncludeCookies': False, 'Bucket': '', 'Prefix': ''}, 'PriceClass': 'PriceClass_All', 'Enabled': True, 'ViewerCertificate': {'CloudFrontDefaultCertificate': True, 'SSLSupportMethod': 'vip', 'MinimumProtocolVersion': 'TLSv1', 'CertificateSource': 'cloudfront'}, 'Restrictions': {'GeoRestriction': {'RestrictionType': 'none', 'Quantity': 0}}, 'WebACLId': '', 'HttpVersion': 'http2', 'IsIPV6Enabled': True, 'ContinuousDeploymentPolicyId': '', 'Staging': False}}}\n"
     ]
    }
   ],
   "source": [
    "client = session.client(\"cloudfront\")\n",
    "\n",
    "response = client.create_distribution(\n",
    "    DistributionConfig={\n",
    "        \"CallerReference\": \"CDNprofile\",\n",
    "        \"DefaultRootObject\": \"profile.jpg\",\n",
    "        \"Origins\": {\n",
    "            \"Quantity\": 1,\n",
    "            \"Items\": [\n",
    "                {\n",
    "                    \"Id\": \"webpageid\",\n",
    "                    \"DomainName\": \"lab6-flask-app-beanstalk.s3.ap-south-1.amazonaws.com\",\n",
    "                    \"S3OriginConfig\": {\"OriginAccessIdentity\": \"\"},\n",
    "                },\n",
    "            ],\n",
    "        },\n",
    "        \n",
    "        'DefaultCacheBehavior': dict(\n",
    "                TargetOriginId = 'webpageid',\n",
    "                ViewerProtocolPolicy= 'redirect-to-https',\n",
    "                TrustedSigners = dict(Quantity=0, Enabled=False),\n",
    "                ForwardedValues=dict(\n",
    "                    Cookies = {'Forward':'all'},\n",
    "                    Headers = dict(Quantity=0),\n",
    "                    QueryString=False,\n",
    "                    QueryStringCacheKeys= dict(Quantity=0),\n",
    "                    ),\n",
    "                MinTTL=1000\n",
    "        ),\n",
    "        \"Comment\": \"distribution to host portfolio\",\n",
    "        \"Enabled\": True,\n",
    "    }\n",
    ")\n",
    "\n",
    "print(response)\n"
   ]
  }
 ],
 "metadata": {
  "kernelspec": {
   "display_name": "Python 3",
   "language": "python",
   "name": "python3"
  },
  "language_info": {
   "codemirror_mode": {
    "name": "ipython",
    "version": 3
   },
   "file_extension": ".py",
   "mimetype": "text/x-python",
   "name": "python",
   "nbconvert_exporter": "python",
   "pygments_lexer": "ipython3",
   "version": "3.11.5"
  },
  "orig_nbformat": 4
 },
 "nbformat": 4,
 "nbformat_minor": 2
}
