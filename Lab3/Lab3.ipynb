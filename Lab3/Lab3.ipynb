{
 "cells": [
  {
   "cell_type": "code",
   "execution_count": 1,
   "metadata": {},
   "outputs": [],
   "source": [
    "import boto3\n",
    "from config import *\n",
    "\n",
    "session = boto3.Session(\n",
    "    aws_access_key_id=AWS_ACCESS_KEY,\n",
    "    aws_secret_access_key=AWS_SECRET_ACCESS_KEY,\n",
    "    region_name='ap-south-1'\n",
    ")\n",
    "\n",
    "ec2=session.resource('ec2')\n"
   ]
  },
  {
   "cell_type": "code",
   "execution_count": 2,
   "metadata": {},
   "outputs": [],
   "source": [
    "def launch_t2micro_Amazon_Linux():\n",
    "\n",
    "    instance=ec2.create_instances(\n",
    "        ImageId=\"ami-0ded8326293d3201b\", # amzn linux 2\n",
    "        InstanceType='t2.micro',\n",
    "        MinCount=1,\n",
    "        MaxCount=1,\n",
    "        SecurityGroups=['launch-wizard-1']\n",
    "    )[0]\n",
    "\n",
    "    instance.create_tags(Tags=[{'Key': 'Name', 'Value': 'AmazonLinux'}])\n",
    "\n",
    "    print(instance)\n",
    "    print('Running and waiting for them to be in running state')\n",
    "    instance.wait_until_running()\n",
    "\n",
    "    return instance"
   ]
  },
  {
   "cell_type": "code",
   "execution_count": 3,
   "metadata": {},
   "outputs": [
    {
     "name": "stdout",
     "output_type": "stream",
     "text": [
      "ec2.Instance(id='i-02393af0e3314f371')\n",
      "Running and waiting for them to be in running state\n"
     ]
    },
    {
     "data": {
      "text/plain": [
       "ec2.Instance(id='i-02393af0e3314f371')"
      ]
     },
     "execution_count": 3,
     "metadata": {},
     "output_type": "execute_result"
    }
   ],
   "source": [
    "launch_t2micro_Amazon_Linux()"
   ]
  },
  {
   "cell_type": "code",
   "execution_count": 4,
   "metadata": {},
   "outputs": [],
   "source": [
    "def launch_t2nano_ubuntu():\n",
    "   \n",
    "    instance = ec2.create_instances(\n",
    "        ImageId='ami-0f5ee92e2d63afc18',\n",
    "        InstanceType='t2.micro',\n",
    "        MinCount=1,\n",
    "        MaxCount=1,\n",
    "        SecurityGroups=['launch-wizard-1'],\n",
    "        KeyName='CS351_KEY',\n",
    "        UserData=open('startup_script.sh', 'r').read(),\n",
    "    )\n",
    "    instance_1=instance[0].create_tags(Tags=[{'Key': 'Name', 'Value': 'UbuntuInstance11'}])\n",
    "    \n",
    "    print(instance_1,'\\n',instance_1)\n",
    "    print('Running and waiting for them to be in running state')\n",
    "    instance[0].wait_until_running()\n",
    "    return instance\n",
    "\n"
   ]
  },
  {
   "cell_type": "code",
   "execution_count": 5,
   "metadata": {},
   "outputs": [
    {
     "name": "stdout",
     "output_type": "stream",
     "text": [
      "[ec2.Tag(resource_id='i-00cfc3aaf647edb56', key='Name', value='UbuntuInstance11')] \n",
      " [ec2.Tag(resource_id='i-00cfc3aaf647edb56', key='Name', value='UbuntuInstance11')]\n",
      "Running and waiting for them to be in running state\n"
     ]
    },
    {
     "data": {
      "text/plain": [
       "[ec2.Instance(id='i-00cfc3aaf647edb56')]"
      ]
     },
     "execution_count": 5,
     "metadata": {},
     "output_type": "execute_result"
    }
   ],
   "source": [
    "launch_t2nano_ubuntu()"
   ]
  },
  {
   "cell_type": "code",
   "execution_count": 25,
   "metadata": {},
   "outputs": [],
   "source": [
    "def list_running_instances():\n",
    "\n",
    "    running_instances = ec2.instances.filter(Filters=[{'Name': 'instance-state-name', 'Values': ['running']}])\n",
    "\n",
    "    for instance in running_instances:\n",
    "        print(f\"Instance ID: {instance.id}, State: {instance.state['Name']}\")\n"
   ]
  },
  {
   "cell_type": "code",
   "execution_count": 26,
   "metadata": {},
   "outputs": [
    {
     "name": "stdout",
     "output_type": "stream",
     "text": [
      "Instance ID: i-03d4c81664ea68fa9, State: running\n",
      "Instance ID: i-0cbf6021e3178839d, State: running\n",
      "Instance ID: i-0d9ccb10f1eccdf6d, State: running\n",
      "Instance ID: i-0917eeb4b26c5a438, State: running\n",
      "Instance ID: i-04945b87c5999aa06, State: running\n"
     ]
    }
   ],
   "source": [
    "list_running_instances()"
   ]
  },
  {
   "cell_type": "code",
   "execution_count": 27,
   "metadata": {},
   "outputs": [],
   "source": [
    "def instances_health():\n",
    "    ec2_client=session.client('ec2')\n",
    "    running_instances = ec2.instances.filter(Filters=[{'Name': 'instance-state-name', 'Values': ['running']}]);\n",
    "\n",
    "    for instance in running_instances:\n",
    "\n",
    "        print(instance)\n",
    "        \n",
    "        response = ec2_client.describe_instance_status(\n",
    "            InstanceIds=[instance.instance_id]\n",
    "        )\n",
    "\n",
    "\n",
    "        if len(response['InstanceStatuses']) > 0:\n",
    "            status = response['InstanceStatuses'][0]['InstanceStatus']\n",
    "            print(f\"Instance {instance.instance_id} status\\n{status['Details'][0]['Name']} --> {status['Details'][0]['Status']}\\nHealth Status --> {status['Status']}\\n\")\n",
    "        else:\n",
    "            print(f\"Instance {instance.instance_id} not found or status information not available.\")\n"
   ]
  },
  {
   "cell_type": "code",
   "execution_count": 28,
   "metadata": {},
   "outputs": [
    {
     "name": "stdout",
     "output_type": "stream",
     "text": [
      "ec2.Instance(id='i-03d4c81664ea68fa9')\n",
      "Instance i-03d4c81664ea68fa9 status\n",
      "reachability --> passed\n",
      "Health Status --> ok\n",
      "\n",
      "ec2.Instance(id='i-0cbf6021e3178839d')\n",
      "Instance i-0cbf6021e3178839d status\n",
      "reachability --> initializing\n",
      "Health Status --> initializing\n",
      "\n",
      "ec2.Instance(id='i-0d9ccb10f1eccdf6d')\n",
      "Instance i-0d9ccb10f1eccdf6d status\n",
      "reachability --> passed\n",
      "Health Status --> ok\n",
      "\n",
      "ec2.Instance(id='i-0917eeb4b26c5a438')\n",
      "Instance i-0917eeb4b26c5a438 status\n",
      "reachability --> passed\n",
      "Health Status --> ok\n",
      "\n",
      "ec2.Instance(id='i-04945b87c5999aa06')\n",
      "Instance i-04945b87c5999aa06 status\n",
      "reachability --> initializing\n",
      "Health Status --> initializing\n",
      "\n"
     ]
    }
   ],
   "source": [
    "instances_health()"
   ]
  },
  {
   "cell_type": "code",
   "execution_count": 31,
   "metadata": {},
   "outputs": [],
   "source": [
    "def host_server_instance():\n",
    "\n",
    "\n",
    "    instance = ec2.create_instances(\n",
    "        ImageId='ami-0ded8326293d3201b',  \n",
    "        InstanceType='t2.micro',\n",
    "        MinCount=1,\n",
    "        MaxCount=1,\n",
    "        SecurityGroups=['launch-wizard-1'],  \n",
    "        UserData=open('startup_script.sh', 'r').read(),\n",
    "    )\n",
    "\n",
    "    instance[0].create_tags(Tags=[{'Key': 'Name', 'Value': 'Host Server'}])\n",
    "\n",
    "    print('Running and waiting for DNS')\n",
    "    instance[0].wait_until_running()\n",
    "\n",
    "\n",
    "    public_dns = instance[0].public_dns_name\n",
    "    print(\"Public DNS:\", public_dns)\n"
   ]
  },
  {
   "cell_type": "code",
   "execution_count": 32,
   "metadata": {},
   "outputs": [
    {
     "name": "stdout",
     "output_type": "stream",
     "text": [
      "Running and waiting for DNS\n",
      "Public DNS: ec2-13-233-166-127.ap-south-1.compute.amazonaws.com\n"
     ]
    }
   ],
   "source": [
    "host_server_instance()"
   ]
  },
  {
   "cell_type": "code",
   "execution_count": 33,
   "metadata": {},
   "outputs": [],
   "source": [
    "def stop_instances():\n",
    "\n",
    "    running_instances = ec2.instances.filter(Filters=[{'Name': 'instance-state-name', 'Values': ['running']}])\n",
    "\n",
    "    for instance in running_instances:\n",
    "        print(instance.id +\" Stopped \")\n",
    "        instance.stop();"
   ]
  },
  {
   "cell_type": "code",
   "execution_count": 34,
   "metadata": {},
   "outputs": [
    {
     "name": "stdout",
     "output_type": "stream",
     "text": [
      "i-01e53ede19bdc9b57 Stopped \n",
      "i-03d4c81664ea68fa9 Stopped \n",
      "i-0cbf6021e3178839d Stopped \n",
      "i-0d81567eaac85ebbf Stopped \n",
      "i-0d9ccb10f1eccdf6d Stopped \n",
      "i-0917eeb4b26c5a438 Stopped \n",
      "i-04945b87c5999aa06 Stopped \n"
     ]
    }
   ],
   "source": [
    "stop_instances()"
   ]
  },
  {
   "cell_type": "code",
   "execution_count": 8,
   "metadata": {},
   "outputs": [],
   "source": [
    "def terminate_instance():\n",
    "\n",
    "    running_instances = ec2.instances.filter(Filters=[{'Name': 'instance-state-name', 'Values': ['running']}])\n",
    "\n",
    "    for instance in running_instances:\n",
    "        print (instance.id + \" Terminated\")\n",
    "        instance.terminate()\n",
    "\n"
   ]
  },
  {
   "cell_type": "code",
   "execution_count": null,
   "metadata": {},
   "outputs": [],
   "source": [
    "terminate_instance()"
   ]
  }
 ],
 "metadata": {
  "kernelspec": {
   "display_name": "Python 3",
   "language": "python",
   "name": "python3"
  },
  "language_info": {
   "codemirror_mode": {
    "name": "ipython",
    "version": 3
   },
   "file_extension": ".py",
   "mimetype": "text/x-python",
   "name": "python",
   "nbconvert_exporter": "python",
   "pygments_lexer": "ipython3",
   "version": "3.11.2"
  },
  "orig_nbformat": 4
 },
 "nbformat": 4,
 "nbformat_minor": 2
}
