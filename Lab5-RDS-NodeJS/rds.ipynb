{
 "cells": [
  {
   "cell_type": "code",
   "execution_count": 1,
   "metadata": {},
   "outputs": [],
   "source": [
    "import boto3\n",
    "\n",
    "session=boto3.Session(\n",
    "    aws_access_key_id='',\n",
    "    aws_secret_access_key='',\n",
    "    region_name=''        \n",
    ")\n",
    "\n",
    "client=session.client('rds')"
   ]
  },
  {
   "cell_type": "code",
   "execution_count": 67,
   "metadata": {},
   "outputs": [],
   "source": [
    "db_instance_identifier=''"
   ]
  },
  {
   "attachments": {},
   "cell_type": "markdown",
   "metadata": {},
   "source": [
    "## Creating DB Instance"
   ]
  },
  {
   "cell_type": "code",
   "execution_count": 68,
   "metadata": {},
   "outputs": [],
   "source": [
    "def create_db_inst():\n",
    "    \n",
    "    response=client.create_db_instance(\n",
    "        DBInstanceIdentifier = db_instance_identifier,\n",
    "        DBInstanceClass = 'db.t2.micro',\n",
    "        Engine = 'mysql',\n",
    "        MasterUsername = 'admin',\n",
    "        VpcSecurityGroupIds=['sg-0e8625dd6585b3f06'],\n",
    "        #Virtual Private Cloud (VPC): VPC is a logically isolated section of a cloud provider's network\n",
    "        #Subnet(Public(ec2), Private(RDS)): A subnet is a range of IP addresses in your VPC. Subnets are used to logically divide your VPC's IP address space into smaller segments\n",
    "        MasterUserPassword = 'Rds-2023',\n",
    "        AllocatedStorage = 20,  \n",
    "        AvailabilityZone = 'ap-south-1a',  \n",
    "        DBParameterGroupName = 'default.mysql8.0',  \n",
    "        MultiAZ = False,\n",
    "        Tags=[{'Key': 'Name', 'Value': 'MySqlDBInstance'}], \n",
    "    )\n",
    "\n",
    "    return response"
   ]
  },
  {
   "cell_type": "code",
   "execution_count": 69,
   "metadata": {},
   "outputs": [
    {
     "name": "stdout",
     "output_type": "stream",
     "text": [
      "{'DBInstance': {'DBInstanceIdentifier': 'mysql-db-instance-lab5', 'DBInstanceClass': 'db.t2.micro', 'Engine': 'mysql', 'DBInstanceStatus': 'creating', 'MasterUsername': 'admin', 'AllocatedStorage': 20, 'PreferredBackupWindow': '22:28-22:58', 'BackupRetentionPeriod': 1, 'DBSecurityGroups': [], 'VpcSecurityGroups': [{'VpcSecurityGroupId': 'sg-0e8625dd6585b3f06', 'Status': 'active'}], 'DBParameterGroups': [{'DBParameterGroupName': 'default.mysql8.0', 'ParameterApplyStatus': 'in-sync'}], 'AvailabilityZone': 'ap-south-1a', 'DBSubnetGroup': {'DBSubnetGroupName': 'default', 'DBSubnetGroupDescription': 'default', 'VpcId': 'vpc-05ca77928f4caa30e', 'SubnetGroupStatus': 'Complete', 'Subnets': [{'SubnetIdentifier': 'subnet-0ca3117f6f6f2428b', 'SubnetAvailabilityZone': {'Name': 'ap-south-1c'}, 'SubnetOutpost': {}, 'SubnetStatus': 'Active'}, {'SubnetIdentifier': 'subnet-035e4c9c69bead117', 'SubnetAvailabilityZone': {'Name': 'ap-south-1a'}, 'SubnetOutpost': {}, 'SubnetStatus': 'Active'}, {'SubnetIdentifier': 'subnet-02a040186241f81ec', 'SubnetAvailabilityZone': {'Name': 'ap-south-1b'}, 'SubnetOutpost': {}, 'SubnetStatus': 'Active'}]}, 'PreferredMaintenanceWindow': 'wed:12:48-wed:13:18', 'PendingModifiedValues': {'MasterUserPassword': '****'}, 'MultiAZ': False, 'EngineVersion': '8.0.33', 'AutoMinorVersionUpgrade': True, 'ReadReplicaDBInstanceIdentifiers': [], 'LicenseModel': 'general-public-license', 'OptionGroupMemberships': [{'OptionGroupName': 'default:mysql-8-0', 'Status': 'in-sync'}], 'PubliclyAccessible': True, 'StorageType': 'gp2', 'DbInstancePort': 0, 'StorageEncrypted': False, 'DbiResourceId': 'db-Z3776TFAFZBCJMV6L54K6SD6B4', 'CACertificateIdentifier': 'rds-ca-2019', 'DomainMemberships': [], 'CopyTagsToSnapshot': False, 'MonitoringInterval': 0, 'DBInstanceArn': 'arn:aws:rds:ap-south-1:115926855272:db:mysql-db-instance-lab5', 'IAMDatabaseAuthenticationEnabled': False, 'PerformanceInsightsEnabled': False, 'DeletionProtection': False, 'AssociatedRoles': [], 'TagList': [{'Key': 'Name', 'Value': 'MySqlDBInstance'}], 'CustomerOwnedIpEnabled': False, 'BackupTarget': 'region', 'NetworkType': 'IPV4', 'StorageThroughput': 0, 'CertificateDetails': {'CAIdentifier': 'rds-ca-2019'}}, 'ResponseMetadata': {'RequestId': '352ce4f2-ccc1-46f3-9531-40eeee664123', 'HTTPStatusCode': 200, 'HTTPHeaders': {'x-amzn-requestid': '352ce4f2-ccc1-46f3-9531-40eeee664123', 'strict-transport-security': 'max-age=31536000', 'content-type': 'text/xml', 'content-length': '4458', 'date': 'Sat, 02 Sep 2023 15:15:32 GMT'}, 'RetryAttempts': 0}}\n",
      "DB instance created successfully!\n",
      "DB Instance ID: mysql-db-instance-lab5\n"
     ]
    }
   ],
   "source": [
    "response=create_db_inst()\n",
    "print(response)\n",
    "\n",
    "client.get_waiter('db_instance_available').wait(DBInstanceIdentifier=db_instance_identifier)\n",
    "\n",
    "# Print the DB instance details\n",
    "print(\"DB instance created successfully!\")\n",
    "print(\"DB Instance ID:\", response['DBInstance']['DBInstanceIdentifier'])\n",
    "# print(\"Endpoint:\", response['DBInstance']['Endpoint']['Address'])"
   ]
  },
  {
   "cell_type": "code",
   "execution_count": 48,
   "metadata": {},
   "outputs": [
    {
     "ename": "KeyError",
     "evalue": "'Endpoint'",
     "output_type": "error",
     "traceback": [
      "\u001b[0;31m---------------------------------------------------------------------------\u001b[0m",
      "\u001b[0;31mKeyError\u001b[0m                                  Traceback (most recent call last)",
      "\u001b[1;32m/home/av/Desktop/Cloud Computing Lab/Lab5-RDS/rds.ipynb Cell 6\u001b[0m in \u001b[0;36m1\n\u001b[0;32m----> <a href='vscode-notebook-cell:/home/av/Desktop/Cloud%20Computing%20Lab/Lab5-RDS/rds.ipynb#W5sZmlsZQ%3D%3D?line=0'>1</a>\u001b[0m \u001b[39mprint\u001b[39m(\u001b[39m\"\u001b[39m\u001b[39mEndpoint:\u001b[39m\u001b[39m\"\u001b[39m, response[\u001b[39m'\u001b[39;49m\u001b[39mDBInstance\u001b[39;49m\u001b[39m'\u001b[39;49m][\u001b[39m'\u001b[39;49m\u001b[39mEndpoint\u001b[39;49m\u001b[39m'\u001b[39;49m][\u001b[39m'\u001b[39m\u001b[39mAddress\u001b[39m\u001b[39m'\u001b[39m])\n\u001b[1;32m      <a href='vscode-notebook-cell:/home/av/Desktop/Cloud%20Computing%20Lab/Lab5-RDS/rds.ipynb#W5sZmlsZQ%3D%3D?line=1'>2</a>\u001b[0m \u001b[39m#mysql-db-instance-lab5.co0ynpevyflj.ap-south-1.rds.amazonaws.com\u001b[39;00m\n",
      "\u001b[0;31mKeyError\u001b[0m: 'Endpoint'"
     ]
    }
   ],
   "source": [
    "print(\"Endpoint:\", response['DBInstance']['Endpoint']['Address'])\n",
    "#mysql-db-instance-lab5.co0ynpevyflj.ap-south-1.rds.amazonaws.com"
   ]
  },
  {
   "attachments": {},
   "cell_type": "markdown",
   "metadata": {},
   "source": [
    "## Create EC2 Instance"
   ]
  },
  {
   "cell_type": "code",
   "execution_count": 4,
   "metadata": {},
   "outputs": [
    {
     "name": "stdout",
     "output_type": "stream",
     "text": [
      "ec2.Instance(id='i-08ca0069ac6ea17d2')\n",
      "Running and waiting for DNS\n",
      "Public DNS: ec2-65-2-137-221.ap-south-1.compute.amazonaws.com\n"
     ]
    }
   ],
   "source": [
    "ec2 = session.resource('ec2')\n",
    "\n",
    "instance = ec2.create_instances(\n",
    "    ImageId='ami-0ded8326293d3201b',  \n",
    "    InstanceType='t2.micro',\n",
    "    MinCount=1,\n",
    "    MaxCount=1,\n",
    "    SecurityGroups=['launch-wizard-1'],  \n",
    "    KeyName='CS351_KEY',\n",
    "    UserData=open('startup_script.sh', 'r').read(),\n",
    ")[0]\n",
    "\n",
    "instance.create_tags(Tags=[{'Key': 'Name', 'Value': 'linux-db-lab5'}])\n",
    "\n",
    "print(instance)\n",
    "print('Running and waiting for DNS')\n",
    "instance.wait_until_running()\n",
    "\n",
    "\n",
    "public_dns = instance.public_dns_name\n",
    "print(\"Public DNS:\", public_dns)"
   ]
  },
  {
   "attachments": {},
   "cell_type": "markdown",
   "metadata": {},
   "source": [
    "## Create Flask File"
   ]
  },
  {
   "cell_type": "code",
   "execution_count": 3,
   "metadata": {},
   "outputs": [
    {
     "name": "stdout",
     "output_type": "stream",
     "text": [
      "Defaulting to user installation because normal site-packages is not writeable\n",
      "\u001b[33mWARNING: Skipping /usr/lib/python3.11/dist-packages/numpy-1.23.5.egg-info due to invalid metadata entry 'name'\u001b[0m\u001b[33m\n",
      "\u001b[0mCollecting mysql.connector\n",
      "  Downloading mysql-connector-2.2.9.tar.gz (11.9 MB)\n",
      "\u001b[2K     \u001b[90m━━━━━━━━━━━━━━━━━━━━━━━━━━━━━━━━━━━━━━━━\u001b[0m \u001b[32m11.9/11.9 MB\u001b[0m \u001b[31m2.3 MB/s\u001b[0m eta \u001b[36m0:00:00\u001b[0m00:01\u001b[0m00:01\u001b[0m\n",
      "\u001b[?25h  Preparing metadata (setup.py) ... \u001b[?25ldone\n",
      "\u001b[?25hBuilding wheels for collected packages: mysql.connector\n",
      "  Building wheel for mysql.connector (setup.py) ... \u001b[?25ldone\n",
      "\u001b[?25h  Created wheel for mysql.connector: filename=mysql_connector-2.2.9-cp311-cp311-linux_x86_64.whl size=247950 sha256=fd068ef9295523a6b02cdfff53ae4f3c7a4e4f4e4bc16771d8b92973bb7dbd19\n",
      "  Stored in directory: /home/av/.cache/pip/wheels/17/cd/ed/2d49e9bac69cf09382e4c7cc20a2511202b48324b87db26019\n",
      "Successfully built mysql.connector\n",
      "\u001b[33mWARNING: Skipping /usr/lib/python3.11/dist-packages/numpy-1.23.5.egg-info due to invalid metadata entry 'name'\u001b[0m\u001b[33m\n",
      "\u001b[0mInstalling collected packages: mysql.connector\n",
      "Successfully installed mysql.connector-2.2.9\n"
     ]
    }
   ],
   "source": [
    "!pip install mysql.connector pymysql"
   ]
  },
  {
   "cell_type": "code",
   "execution_count": null,
   "metadata": {},
   "outputs": [],
   "source": [
    "\n",
    "import pymysql\n",
    "\n",
    "# Configure database connection\n",
    "db_host = ''\n",
    "db_user = ''\n",
    "db_password = ''\n",
    "db_name = ''\n",
    "\n",
    "\n",
    "db = pymysql.connect(\n",
    "        host=db_host,\n",
    "        user=db_user,\n",
    "        password=db_password,\n",
    "        database=db_name,\n",
    "        port=3306\n",
    "    )\n",
    "\n",
    "name = input(\"Enter your name: \")\n",
    "message = input(\"Enter your message: \")\n",
    "\n",
    "cursor = db.cursor()\n",
    "insert_query = \"INSERT INTO comments (name, message) VALUES (%s, %s)\"\n",
    "cursor.execute(insert_query, (name, message))\n",
    "db.commit()\n",
    "cursor.close()\n",
    "db.close()\n"
   ]
  },
  {
   "cell_type": "code",
   "execution_count": null,
   "metadata": {},
   "outputs": [],
   "source": []
  },
  {
   "cell_type": "code",
   "execution_count": null,
   "metadata": {},
   "outputs": [],
   "source": []
  }
 ],
 "metadata": {
  "kernelspec": {
   "display_name": "Python 3",
   "language": "python",
   "name": "python3"
  },
  "language_info": {
   "codemirror_mode": {
    "name": "ipython",
    "version": 3
   },
   "file_extension": ".py",
   "mimetype": "text/x-python",
   "name": "python",
   "nbconvert_exporter": "python",
   "pygments_lexer": "ipython3",
   "version": "3.11.2"
  },
  "orig_nbformat": 4
 },
 "nbformat": 4,
 "nbformat_minor": 2
}
