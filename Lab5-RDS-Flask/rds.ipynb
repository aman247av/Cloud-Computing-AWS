{
 "cells": [
  {
   "cell_type": "code",
   "execution_count": 1,
   "metadata": {},
   "outputs": [],
   "source": [
    "import boto3\n",
    "\n",
    "session=boto3.Session(\n",
    "    aws_access_key_id='',\n",
    "    aws_secret_access_key='',\n",
    "    region_name=''        \n",
    ")\n",
    "\n",
    "client=session.client('rds')"
   ]
  },
  {
   "cell_type": "code",
   "execution_count": 2,
   "metadata": {},
   "outputs": [
    {
     "name": "stdout",
     "output_type": "stream",
     "text": [
      "ec2.Instance(id='i-03bd87f6d56955dc7')\n",
      "Running and waiting for DNS\n",
      "Public DNS: ec2-13-233-111-100.ap-south-1.compute.amazonaws.com\n"
     ]
    }
   ],
   "source": [
    "ec2 = session.resource('ec2')\n",
    "\n",
    "instance = ec2.create_instances(\n",
    "    ImageId='ami-0ded8326293d3201b',  \n",
    "    InstanceType='t2.micro',\n",
    "    MinCount=1,\n",
    "    MaxCount=1,\n",
    "    SecurityGroups=['launch-wizard-1'],  \n",
    "    KeyName='CS351_KEY',\n",
    "    UserData=open('startup_script.sh', 'r').read(),\n",
    ")[0]\n",
    "\n",
    "instance.create_tags(Tags=[{'Key': 'Name', 'Value': 'linux-db-lab5'}])\n",
    "\n",
    "print(instance)\n",
    "print('Running and waiting for DNS')\n",
    "instance.wait_until_running()\n",
    "\n",
    "\n",
    "public_dns = instance.public_dns_name\n",
    "print(\"Public DNS:\", public_dns)"
   ]
  },
  {
   "cell_type": "code",
   "execution_count": null,
   "metadata": {},
   "outputs": [],
   "source": []
  }
 ],
 "metadata": {
  "kernelspec": {
   "display_name": "Python 3",
   "language": "python",
   "name": "python3"
  },
  "language_info": {
   "codemirror_mode": {
    "name": "ipython",
    "version": 3
   },
   "file_extension": ".py",
   "mimetype": "text/x-python",
   "name": "python",
   "nbconvert_exporter": "python",
   "pygments_lexer": "ipython3",
   "version": "3.11.5"
  },
  "orig_nbformat": 4
 },
 "nbformat": 4,
 "nbformat_minor": 2
}
